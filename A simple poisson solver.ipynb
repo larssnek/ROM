{
 "cells": [
  {
   "cell_type": "markdown",
   "metadata": {},
   "source": [
    "# A simple poisson solver using isogeometry"
   ]
  },
  {
   "cell_type": "markdown",
   "metadata": {},
   "source": [
    "This note will describe my implementation of a simple poisson solver using B-splines as basis functions."
   ]
  },
  {
   "cell_type": "markdown",
   "metadata": {
    "collapsed": true
   },
   "source": [
    "## Poisson's equation\n",
    "Our main goal is to build a simple FEM solver for the Poisson problem i 2D using B-splines. The problem reads\n",
    "\\begin{equation}\n",
    "    \\begin{split}\n",
    "        -\\Delta u &= f \\quad \\mbox{ on } \\Omega \\\\\n",
    "        u&=g \\quad \\mbox{ on } \\partial\\Omega,\n",
    "    \\end{split}\n",
    "\\end{equation}\n",
    "where $g$ is a function taking some value at the boundary.\n",
    "### Weak formulation\n",
    "Multiplying the above problem with a test function $v\\in V$, where $V=\\{w:w\\in H^1(\\Omega), w|_{\\Gamma_D}=0\\}$, integrating by parts and using that $v|_{\\Gamma_D}=0$  we obtain the weak formulation. The problem is now to find $u\\in U$ s.t. for all $v\\in V$\n",
    "\\begin{equation}\n",
    "    \\iint_\\Omega\\nabla u \\cdot \\nabla v \\mbox{dxdy} = \\iint_\\Omega fv \\mbox{dxdy}, \n",
    "\\end{equation}\n",
    "where $U=\\{u:u\\in H^1(\\Omega), u|_{\\Gamma_D}=g\\}$\n",
    "We can rewrite the weak form as \n",
    "\\begin{equation}\n",
    "    a(u,v)=F(v).\n",
    "\\end{equation}\n",
    "Notice that $a(\\cdot,\\cdot)$ is bilinear and symmetric and $F(\\cdot)$ is linear. \n",
    "\n",
    "To solve this problem approximately we turn to Galerkin's method to approximate the infinite dimensional spaces $U$ and $V$ by some finite dimensional spaces $U^h$ and $V^h$. The problem is now reduced to finding $u^h\\in U^h$ s.t. for all $v^h\\in V^h$ the above equation is solved. For a given function $u_g^h$ s.t. $u_g|_{\\Gamma_D}=g$, there exist a function $u_0^h\\in V^h$ s.t. $u^h=u_0^h+u_g^h\\in U$. For now we will only consider the homogeneous dirichlet boundary conditions, i.e. $u|_{\\Gamma_D}=0$ and in fact the weak formulation will be reduced to finding a $u^h\\in V^h$. For simplicity I will hereby use the notation $u$ for $u^h$, $v$ for $v^h$. \n",
    "\n",
    "### B-spline basis functions and its first derivatives\n",
    "The B-spline functions are defined recursively based on the Cox - de Boor recursion formula (Isogeometric Analysis, p. 20) starting with piecewise constants for $p=0$\n",
    "\\begin{equation}\n",
    "    N_{i,0}(\\xi)=\n",
    "    \\begin{cases} \n",
    "      1 & \\mbox{if } \\xi_i \\leq \\xi < \\xi_{i+1}  \\\\\n",
    "      0 & \\mbox{otherwise}\n",
    "          \\end{cases}\n",
    "\\end{equation}\n",
    "\n",
    "For $p=1, 2, 3,\\dots $\n",
    "\\begin{equation}\n",
    "N_{i,p}(\\xi)=\\frac{\\xi-\\xi_i}{\\xi_{i+p}-\\xi_i}N_{i,p-1}(\\xi)+\\frac{\\xi_{i+p+1}-\\xi}{\\xi_{i+p+1}-\\xi_{i+1}}N_{i+1,p-1}(\\xi)\n",
    "%\\label{CoxdeBoor}\n",
    "\\end{equation}\n",
    "In the case of repeated knots, i.e. when the multiplicity $m_i$ of a knot $\\xi_i$ is greater than one the nominator in the equation above may be zero and hence we define \n",
    "\\begin{equation}\n",
    "\\frac{0}{0}\\overset{.}{=}0\n",
    "\\end{equation}\n",
    "\n",
    "In 2D we have $n$ basis functions in the $\\xi$-direction and $m$ basis functions in the $\\eta$-direction, resulting in the basis functions $\\tilde{N}_A(\\xi,\\eta)=N_i(\\xi)N_j(\\eta)$ for $A=1,\\dots,nm$\n",
    "\n",
    "The derivatives is given by equation (2.12) p. 28 in Isogeometric Analysis\n",
    "\\begin{equation}\n",
    "\\frac{d}{d\\xi}N_{i,p}=\\frac{p}{\\xi_{i+p}}N_{i,p-1}(\\xi)-\\frac{p}{\\xi_{i+p+1}-\\xi_{i+1}}N_{i+1,p-1}(\\xi)\n",
    "\\end{equation}\n",
    "As we see from the weak formulation what's interesting is the gradient of the basis functions $\\tilde{N}_A$\n",
    "\\begin{equation}\n",
    "    \\tilde{N}_A=\\left[ {\\begin{array}{c}\n",
    "          \\frac{\\partial \\tilde{N}_A(\\xi,\\eta)}{\\partial \\xi}\\\\\n",
    "          \\frac{\\partial \\tilde{N}_A(\\xi,\\eta)}{\\partial \\eta}\\\\\n",
    "  \\end{array} } \\right]\n",
    "  = \\left[ {\\begin{array}{c}\n",
    "          \\frac{\\partial N_i(\\xi)}{\\partial \\xi}N_j(\\eta)\\\\\n",
    "          N_i(\\xi)\\frac{\\partial N_j(\\eta)}{\\partial \\eta}\\\\\n",
    "  \\end{array} } \\right].\n",
    "\\end{equation}\n",
    "### Compact support\n",
    "\n",
    "Given open knotvectors $\\Xi=\\{\\xi_1,\\xi_2,\\dots,\\xi_{n+p+1}\\}$ and $H=\\{\\eta_1,\\eta_2,\\dots,\\eta_{m+q+1}\\}$ where $n,m$ is the number of B-spline functions in $\\xi-$ and $\\eta-$direction respectively and $p,q$ are the corresponding degree of the basis functions. That a knotvector is open means that its first and last element is has multiplicity $p+1$, where $p$ is the polynomial degree of the basis functions. The number of elements in the parameter space is the number of distinct knots minus one, lets say $N-1$ for $\\Xi$ and $M-1$ for $H$ multiplied with each other, i.e. $(N-1)\\times(M-1)$ number of elements. Each element will have non-zero contributions from p+1 basis functions in the $\\xi-$direction and non-zero contributions from q+1 basis functions in the $\\eta-$direction. For a element $[\\xi_i,\\xi_{i+1}]\\times[\\eta_j,\\eta_{j+1}]$ the basis functions $N_{i-p,p}-N_{i,p}$ is supported in the $\\xi-$direction and the basis functions $M_{j-q,q}-M_{j,q}$ is supported in the $\\eta-$direction.\n",
    "\n",
    "### Mapping from physical space to parameter space\n",
    "The mapping from the physical space to the parameter space is given by \n",
    "\\begin{equation}\n",
    "    \\begin{split}\n",
    "        x=\\sum_{i=1}^n\\sum_{j=1}^m N_{i,p}(\\xi)M_{j,q}(\\eta)x_{ij}, &\\quad y=\\sum_{i=1}^n\\sum_{j=1}^m N_{i,p}(\\xi)M_{j,q}(\\eta)y_{ij}\\\\\n",
    "        x=\\sum_{A=1}^{nm}\\tilde{N}_A(\\xi,\\eta)x_{A}=\\mathbf{\\tilde{N}^\\top}\\mathbf{x}, &\\quad y=\\sum_{A=1}^{nm}\\tilde{N}_A(\\xi,\\eta)y_{A}=\\mathbf{\\tilde{N}^\\top}\\mathbf{y}\\\\\n",
    "    \\end{split}\n",
    "\\end{equation}\n",
    "where $\\mathbf{x},\\mathbf{y}$ is the vectors containing the control points of $x$ and $y$ respectively. See $\\textit{Isogeometric Analysis, }2009$ for a further explanation of the control points. Now to solve the integral above we must map it from the physical space $\\tilde\\Omega$  to the parameter space $\\Omega$\n",
    "\\begin{equation}\n",
    "    K_{AB}=\\iint_{\\tilde\\Omega}\\nabla\\tilde{N_A}\\nabla\\tilde{N_B}\\mbox{dxdy}=\\iint_{\\Omega}\\nabla\\tilde{N_A}(\\xi,\\eta)\\nabla\\tilde{N_B}(\\xi,\\eta)|J|\\mbox{ d}\\xi\\mbox{d}\\eta \n",
    "\\end{equation}\n",
    "\n",
    "where $J$ is the Jacobian\n",
    "\\begin{equation}\n",
    "  J=\n",
    "  \\left[ {\\begin{array}{cc}\n",
    "  \\frac{\\partial x}{\\partial \\xi} & \\frac{\\partial x}{\\partial \\eta}\\\\\n",
    "  \\frac{\\partial y}{\\partial \\xi} & \\frac{\\partial y}{\\partial \\eta}\\\\\n",
    "  \\end{array} } \\right]\n",
    "\\end{equation}\n",
    "\n",
    "And we do the same for the right hand side\n",
    "\\begin{equation}\n",
    "F_B=\\iint_{\\tilde{\\Omega}} f(x,y) \\tilde{N_B} \\mbox{dxdy}=\\iint_{\\Omega}f(x(\\xi,\\eta),y(\\xi,\\eta))\\tilde{N_B}(\\xi,\\eta)|J|\\mbox{ d}\\xi\\mbox{d}\\eta.\n",
    "\\end{equation}\n",
    "### Representation using B-spline basis functions\n",
    "In 2D we can represent $u$ using B-spline basis functions, one for each spatial direction $N_{i,p}(\\xi), M_{j,q}(\\eta)$ s.t. $u = \\sum_{i=1}^n\\sum_{j=1}^m N_{i,p}(\\xi)M_{j,q}(\\eta)u_{ij}$ where $u_{ij}$ is the control points of u.Rewriting this to $u = \\sum_{A=1}^{nm}\\tilde{N_{A}}(\\xi,\\eta)u_A$ and doing a similar representation for $v$ we get from the weak formulation \n",
    "\\begin{equation}\n",
    "    \\begin{split}\n",
    "        \\sum_{A=1}^{nm}\\iint_\\Omega\\nabla\\tilde{N_A}\\nabla\\tilde{N_B}\\mbox{dxdy}u_A&=\\iint_\\Omega f \\tilde{N_B} \\mbox{dxdy}\\\\\n",
    "        \\sum_{A=1}^{nm} K_{AB}u_A&=F_B \\\\\n",
    "        \\mathbf{K}\\mathbf{u}&=\\mathbf{F}\n",
    "    \\end{split}\n",
    "\\end{equation}\n",
    "where\n",
    "\\begin{equation}\n",
    "    \\mathbf{u}=[u_{1,1}, u_{1,2}, \\dots u_{1,m},u_{2,1}, u_{2,2} ,\\dots, u_{nm}]^\\top\n",
    "\\end{equation}\n",
    "\n",
    "\\begin{equation}\n",
    "  K=\n",
    "  \\left[ {\\begin{array}{ccccccc}\n",
    "   K_{(1,1)(1,1)} & K_{(1,2)(1,1)} & \\dots & K_{(1,m)(1,1)} & K_{(2,1)(1,1)} & \\dots & K_{(n,m)(1,1)}\\\\\n",
    "  K_{(1,1)(1,2)} & K_{(1,2)(1,2)} & \\dots & \\dots & \\dots & \\dots & K_{(n,m)(1,2)}\\\\\n",
    "  \\vdots & \\vdots & \\vdots & \\vdots & \\vdots & \\vdots & \\vdots\\\\\n",
    "  K_{(1,1)(1,m)} & K_{(1,2)(1,m)} & \\dots & \\dots & \\dots & \\dots & K_{(n,m)(1,m)}\\\\\n",
    "  K_{(1,1)(2,1)} & K_{(1,2)(2,1)} & \\dots & \\dots & \\dots & \\dots & K_{(n,m)(2,1)}\\\\\n",
    "  \\vdots & \\vdots & \\vdots & \\vdots & \\vdots & \\vdots & \\vdots\\\\\n",
    "  K_{(1,1)(n,m)} & K_{(1,2)(n,m)} & \\dots & \\dots & \\dots & \\dots & K_{(n,m)(n,m)}\\\\\n",
    "  \\end{array} } \\right]\n",
    "\\end{equation}\n",
    "and $K_{(i,j)(r,s)}=\\iint_\\Omega\\nabla(N_i(\\xi)M_j(\\eta))\\nabla(N_r(\\xi)M_s(\\eta))=\\iint_\\Omega(\\nabla N_i(\\xi)M_j(\\eta)+N_i(\\xi)\\nabla M_j(\\eta))(\\nabla N_r(\\xi)M_s(\\eta)+N_r(\\xi)\\nabla M_s(\\eta))$ or in a simpler notation\n",
    "$K_{AB}=\\iint_\\Omega\\nabla\\tilde{N}_A(\\xi,\\eta)\\nabla\\tilde{N}_B(\\xi,\\eta)$"
   ]
  },
  {
   "cell_type": "markdown",
   "metadata": {},
   "source": [
    "### Tools\n",
    "To implement this we need some tools. We need a function to compute the basis functions and its derivative. We also need a function performing the integration, using gaussian quadrature to integrate, see section $\\textit{Gaussian quadrature}$, and assembling the matrix $K$. "
   ]
  },
  {
   "cell_type": "markdown",
   "metadata": {},
   "source": [
    "#### Bspline_basis()\n",
    "Takes as input x-parameter, p- is the order of the basis, i- is the i'th basis, knotvec - is the vector containing the knots. In one dimension the knot vector is a non-decreasing set of coordinates in the parameter space, $\\Xi=\\{\\xi_1, \\xi_2, \\dots, \\xi_{n+p+1}\\}$, where $n$ is the number of basis functions used to construct the B-spline curve and $p$ is the polynomial order.\n",
    "This function returns B-spline basis $N_{i,p}$ evaluated in the point $x$. "
   ]
  },
  {
   "cell_type": "code",
   "execution_count": 3,
   "metadata": {
    "collapsed": true
   },
   "outputs": [],
   "source": [
    "import sys\n",
    "sys.path.append(\"../../../../splipy\")\n",
    "#C:\\Users\\Lars Snekkerhaugen\\splipy\n",
    "import numpy as np\n",
    "import matplotlib.pyplot as plt\n",
    "import splipy as sp\n",
    "\n",
    "def Bspline_basis(x, p, i, knotvec):\n",
    "\t# x-parameter, p- is the order of the basis, i- is the i'th basis, i.e. i>=1, knotvec - is the vector containing the knots\n",
    "\tif p>0:\n",
    "\t\t#Calculate first term of Cox-de Boor recursion formula\n",
    "\t\tfirst_term=0\n",
    "\t\t#Calculate N_{i,p-1}\n",
    "\t\tN_i=Bspline_basis(x, p-1, i, knotvec)\n",
    "\t\t#Numerator\n",
    "\t\tnum1=knotvec[i+p-1]-knotvec[i-1] #-1 because of indexing\n",
    "\t\tif num1==0 and N_i == 0:\n",
    "\t\t\tfirst_term=0\n",
    "\t\telse:\n",
    "\t\t\tfirst_term=(x-knotvec[i-1])/num1*N_i #-1 because of indexing\n",
    "\t\t#Calculate second term\n",
    "\t\tsecond_term = 0\n",
    "\t\t#Calculate N_{i+1,p-1}\n",
    "\t\tN_i1=Bspline_basis(x,p-1,i+1,knotvec)\n",
    "\t\tnum2=knotvec[i+p+1-1]-knotvec[i+1-1] #-1 because of indexing\n",
    "\t\tif num2 == 0 and N_i1 ==0:\n",
    "\t\t\t\tsecond_term = 0\n",
    "\t\telse:\n",
    "\t\t\tsecond_term=(knotvec[i+p+1-1]-x)/num2*N_i1 #-1 because of indexing\n",
    "\t\tN=first_term+second_term\n",
    "\telif p==0:\n",
    "\t\tif x >= knotvec[i-1] and x < knotvec[i+1-1]: #-1 because of indexing\n",
    "\t\t\tN=1\n",
    "\t\telse:\n",
    "\t\t\tN=0\n",
    "\telse:\n",
    "\t\tprint (\"The order of the basis function must be >=0\")\n",
    "\treturn N"
   ]
  },
  {
   "cell_type": "markdown",
   "metadata": {},
   "source": [
    "#### all_Bspline_basis\n",
    "Takes as input x - vector of evaluationpoints, p - is the order of the basis, n - is the number of basis functions, knotvec - is the vector containing the knots.\n",
    "Returns all the B-spline basis functions evaluated at all evaluationpoints x."
   ]
  },
  {
   "cell_type": "code",
   "execution_count": 4,
   "metadata": {
    "collapsed": true
   },
   "outputs": [],
   "source": [
    "def all_Bspline_basis(x, p, n, knotvec):\n",
    "\t# x - vector of evaluationpoints, p - is the order of the basis, n - is the number of basis functions, knotvec - is the vector containing the knots\n",
    "\tl=len(x)\n",
    "\tB=np.zeros((n,l))\n",
    "\tfor i in range(0,n):\n",
    "\t\tfor j in range(0,l):\n",
    "\t\t\tB[i][j]=Bspline_basis(x[j],p,i+1,knotvec) #+1 because first basisfunction is N_1 \n",
    "\treturn B"
   ]
  },
  {
   "cell_type": "markdown",
   "metadata": {},
   "source": [
    "#### Plot\n",
    "Ploting all B-spline basis functions for a given knotvector, p - polynomial degree, n - number of basis functions and evaluationpoints x"
   ]
  },
  {
   "cell_type": "code",
   "execution_count": 5,
   "metadata": {},
   "outputs": [
    {
     "data": {
      "image/png": "[encoded data removed]",
      "text/plain": [
       "<matplotlib.figure.Figure at 0x129b6e4fac8>"
      ]
     },
     "metadata": {},
     "output_type": "display_data"
    }
   ],
   "source": [
    "x=np.linspace(0,4,100)\n",
    "p=3\n",
    "n=6\n",
    "l=len(x)\n",
    "knotvec=np.array([0,0,0,0,1,2,4,4,4,4])\n",
    "B=all_Bspline_basis(x,p,n,knotvec)\n",
    "B=B[:,0:l]\n",
    "x=x[0:l]\n",
    "plt.plot(x,B.transpose())\n",
    "#plt.savefig('N1,'+str(p)+'-N'+str(n)+','+str(p)+'.png')\n",
    "plt.xlabel(r'$\\xi$')\n",
    "plt.title(r'$N_{1,'+str(p)+'}-N_{'+str(n)+','+str(p)+'}$')\n",
    "plt.show()"
   ]
  },
  {
   "cell_type": "markdown",
   "metadata": {},
   "source": [
    "#### all_Bspline_basis_first_derivative()\n"
   ]
  },
  {
   "cell_type": "markdown",
   "metadata": {},
   "source": [
    "The code is based on equation (2.12) p. 28 in Isogeometric Analysis, the equation is given above.\n",
    "In the code a term is defined as zero when the corresponding nominator gets zero. For a open knotvector this means that $\\xi_{i+p+1}-\\xi_{i+1}$ for $i=n$, hence this term is not evaluated in the code.\n",
    "Assumptions: the knot vector is open, meaning we get $p+1$ repeated knots at the start and at the end of the knotvector."
   ]
  },
  {
   "cell_type": "code",
   "execution_count": 6,
   "metadata": {
    "collapsed": true
   },
   "outputs": [],
   "source": [
    "def all_Bspline_basis_first_derivative(x, p, n, knotvec):\n",
    "\tB=all_Bspline_basis(x, p-1, n, knotvec)\n",
    "\tl=len(x)\n",
    "\tdB=np.zeros((n,l))\n",
    "\tfor i in range(0,n-1):\n",
    "\t\tnum1=knotvec[i+p]-knotvec[i]\n",
    "\t\tif num1==0:\n",
    "\t\t\tfirst_term=0\n",
    "\t\telse:\n",
    "\t\t\tfirst_term=(p/num1)*B[i][:]\n",
    "\t\tnum2=knotvec[i+p+1]-knotvec[i+1]\n",
    "\t\tif num2==0:\n",
    "\t\t\tsecond_term=0\n",
    "\t\telse:\n",
    "\t\t\tsecond_term=(p/num2)*B[i+1][:]\n",
    "\t\tdB[i][:]=first_term-second_term\n",
    "\tnum1=knotvec[n-1+p]-knotvec[n-1]\n",
    "\tif num1>0:\n",
    "\t\tdB[n-1][:]=p*B[n-1][:]/num1\n",
    "\treturn dB"
   ]
  },
  {
   "cell_type": "code",
   "execution_count": 7,
   "metadata": {
    "scrolled": true
   },
   "outputs": [
    {
     "data": {
      "image/png": "[encoded data removed]",
      "text/plain": [
       "<matplotlib.figure.Figure at 0x129b961d390>"
      ]
     },
     "metadata": {},
     "output_type": "display_data"
    }
   ],
   "source": [
    "dB=all_Bspline_basis_first_derivative(x,p,n,knotvec)\n",
    "plt.plot(x,dB.transpose())\n",
    "plt.xlabel(r'$\\xi$')\n",
    "plt.title(r'$dN_{1,'+str(p)+'}-dN_{'+str(n)+','+str(p)+'}$')\n",
    "plt.show()\n"
   ]
  },
  {
   "cell_type": "markdown",
   "metadata": {},
   "source": [
    "#### Bspline_basis_first_derivative()\n",
    "Made to be used in FEMpoisson. Compare to all_Bspline_basis_first_derivative to confirm if it works\n"
   ]
  },
  {
   "cell_type": "code",
   "execution_count": 8,
   "metadata": {},
   "outputs": [
    {
     "data": {
      "image/png": "[encoded data removed]",
      "text/plain": [
       "<matplotlib.figure.Figure at 0x129b96c8e10>"
      ]
     },
     "metadata": {},
     "output_type": "display_data"
    }
   ],
   "source": [
    "def Bspline_basis_first_derivative(x, p, i, knotvec):\n",
    "    # x-parameter, p- is the order of the basis, i- is the i'th basis, i.e. i>=1, knotvec - is the vector containing the knots\n",
    "\tBi=Bspline_basis(x, p-1, i, knotvec)\n",
    "\tif i < len(knotvec)-p-1: #len(knotvec)-p-1=n\n",
    "\t\tBi1=Bspline_basis(x, p-1, i+1, knotvec)\n",
    "\telse:\n",
    "\t\tBi1=0\n",
    "\tnum1=knotvec[i+p-1]-knotvec[i-1] #-1 because of indexing\n",
    "\tif num1==0:\n",
    "\t\tfirst_term=0\n",
    "\telse:\n",
    "\t\tfirst_term=(p/num1)*Bi\n",
    "\tnum2=knotvec[i+p+1-1]-knotvec[i+1-1] #-1 because of indexing\n",
    "\tif num2==0:\n",
    "\t\tsecond_term=0\n",
    "\telse:\n",
    "\t\tsecond_term=(p/num2)*Bi1\n",
    "\tdB=first_term-second_term\n",
    "\treturn dB\n",
    "\n",
    "l=len(x)\n",
    "dB=np.zeros((n,l))\n",
    "for i in range(0,n):\n",
    "    for j in range(0,l):\n",
    "        dB[i,j]=Bspline_basis_first_derivative(x[j], p, i+1, knotvec) #+1 because first basisfunction is N_1 \n",
    "            \n",
    "plt.plot(x,dB.transpose())\n",
    "plt.xlabel(r'$\\xi$')\n",
    "plt.title(r'$dN_{1,'+str(p)+'}-dN_{'+str(n)+','+str(p)+'}$')\n",
    "plt.show()"
   ]
  },
  {
   "cell_type": "markdown",
   "metadata": {},
   "source": [
    "#### computeBasis()\n",
    "Uses $Bspline\\_basis()$ and $Bspline\\_basis\\_first\\_derivative()$ to compute all 2D basis functions $\\tilde{N}_A(\\xi,\\eta)$ consisting of the basis functions $N_i(\\xi)$ in the $\\xi$-direction and $N_j(\\eta)$ in the $\\eta$-direction, where $i$ is given by the elements in $N\\_x\\_number$ and $j$ is given by the elements in $N\\_y\\_number$. $\\tilde{N}_A(\\xi,\\eta)$ is evaluated at the point $(\\xi,\\eta)$, given as an input to the function. The same is done for the gradients $\\nabla \\tilde{N}_A(\\xi,\\eta)$. The basis functions are returned as an array, the gradients are returned as a matrix with two rows, one for each element and the global indices of the functions are returned as an array.\n"
   ]
  },
  {
   "cell_type": "code",
   "execution_count": 9,
   "metadata": {
    "collapsed": true
   },
   "outputs": [],
   "source": [
    "def computeBasis(xi, eta, knot_x, knot_y,N_x_number,N_y_number,p,q,n,m):\n",
    "    # This function will compute the basis functions Ñ(\\xi,\\eta)_A=N_i(\\xi) M_j(\\eta) and its derivatives\n",
    "    # for basis functions given in the vectors N_x_number and N_y_number\n",
    "    # which have compact support on element [el_x]x[el_y]\n",
    "    # Make these basis functions and its derivatives\n",
    "    # n,m gives the total number of basis functions in x-direction and y-direction\n",
    "    # respectively. Needed to return the correct global index vector I\n",
    "    # Returns N, dN, I.astype(int)\n",
    "    lx=len(N_x_number)\n",
    "    ly=len(N_y_number)\n",
    "    Nx=np.zeros(lx)\n",
    "    dNx=np.zeros(lx)\n",
    "    ind=0\n",
    "    for r in N_x_number:\n",
    "        Nx[ind]=Bspline_basis(xi,p,r,knot_x)\n",
    "        dNx[ind]=Bspline_basis_first_derivative(xi, p, r, knot_x)\n",
    "        ind+=1\n",
    "    Ny=np.zeros(ly)\n",
    "    dNy=np.zeros(ly)\n",
    "    ind=0\n",
    "    for r in N_y_number:\n",
    "        Ny[ind]=Bspline_basis(eta,q,r,knot_y)\n",
    "        dNy[ind]=Bspline_basis_first_derivative(eta, q, r, knot_y)\n",
    "        ind+=1\n",
    "    N=np.zeros(lx*ly)\n",
    "    # Each gradient will be a vector\n",
    "    dN=np.zeros((2,lx*ly))\n",
    "    I=np.zeros(lx*ly) # Index vector keeping track of global index\n",
    "    for r in range(0,lx):\n",
    "        for s in range(0,ly):\n",
    "            N[s+r*ly]=Nx[r]*Ny[s]\n",
    "            dN[0,s+r*ly]=dNx[r]*Ny[s]\n",
    "            dN[1,s+r*ly]=Nx[r]*dNy[s]\n",
    "            I[s+r*ly]=(N_x_number[r]-1)*m+N_y_number[s]\n",
    "    return N, dN, I.astype(int)\n"
   ]
  },
  {
   "cell_type": "markdown",
   "metadata": {},
   "source": [
    "#### Gaussian quadrature\n",
    "\n",
    "For the integration we use a Gaussian quadrature rule in 2D over a square as the parameter space will be divided into rectangles. Then the integration over the square $\\tilde\\Omega=[-1,-1]\\times[1,1]$ is easily mapped to integrate over the rectangle $\\Omega=[a,c]\\times[b,d]$. For the Gaussian quadrature rule in 1D we have \n",
    "\\begin{equation}\n",
    "\\int_{-1}^{-1}g(x)dx\\approx\\sum_{q=1}^{Nq}\\rho_qg(z_q),\n",
    "\\end{equation}\n",
    "where $N_q$ is the number of quadrature points, $\\rho_q$ Gaussian quadrature weights associated with the Gaussian quadrature points $z_q$. For the 2-point rule in 1D $z_q=\\{-\\frac{1}{\\sqrt{3}},\\frac{1}{\\sqrt{3}}\\}$ and $\\rho_q=\\{1,1\\}$ and expanding this to a 4-point rule in 2D we see the quadrature scheme in the following figure\n",
    "\n",
    "![Gaussian 4-point quadrature rule in 2D](4pointrule.png)\n",
    "\n",
    "with the weights $\\rho_p=\\{1,1\\}$ in the $x$-direction and $\\rho_q=\\{1,1\\}$ in the $y$-direction. The outer product between the weight-vectors will give the weights for each quadrature point,  meaning 1 for each of the quadrature points given by the combination of the quadrature points in $x$- and $y$-direction $z_p=[-1/\\sqrt{3},1/\\sqrt{3}]$, $z_q=[-1/\\sqrt{3},1/\\sqrt{3}]$. The function $integrate()$ included bellow uses numpy.polynomial.legendre.leggauss to obtain the quadrature points and weights for $N_p$ and $N_q$ quadrature points in $x$-direction and $y$-direction respectively. \n",
    "\n",
    "To map $(x,y)$ in this scheme to the parameter element we need to do the following mapping:\n",
    "for a point $(\\tilde{x},\\tilde{y})\\in\\tilde\\Omega$ we have the point $(\\xi,\\eta)=(\\tilde{x}\\frac{b-a}{2}+\\frac{a+b}{2},\\tilde{y}\\frac{d-c}{2}+\\frac{c+d}{2})\\in\\Omega$, and for the Gaussian quadrature rule \n",
    "\\begin{equation}\n",
    "    \\sum_{i=1}^{Np}\\sum_{j=1}^{Nq}(\\rho_p)_i(\\rho_q)_jg((z_p)_i,(z_q)_j)=\\frac{(b-a)(d-c)}{4}\\sum_{p=1}^{Np}\\sum_{q=1}^{Nq}(\\rho_p)_i(\\rho_q)_jg((z_{p})_i\\frac{b-a}{2}+\\frac{a+b}{2},(z_{q})_j\\frac{d-c}{2}+\\frac{c+d}{2})\n",
    "\\end{equation}\n",
    "where the weigths have been mapped to fit the rectangle. The Gaussian quadrature rule with $N_p$ quadrature points will integrate polynomials up to degree $2N_p-1$ in $\\xi$ exactly and with $N_q$ quadrature points integrate polynomials up to degree $2N_q-1$ in $\\eta$ exactly.\n",
    "\n",
    "###### Side note:\n",
    "Degree of a polynomial is the highest degree of its terms when it is exrpessed as a linear combination of monomials. By degree of a term we mean the sum of the exponents of the variables in the term.\n"
   ]
  },
  {
   "cell_type": "markdown",
   "metadata": {
    "collapsed": true
   },
   "source": [
    "#### Implementation \n",
    "\n",
    "\n",
    "Now to solve these integrals for the whole parameter space we must loop over every element. For every element we can obtain the basis function with support on that element, but with the current implementation of this function we can for each quadrature obtain the basis function and its derivative. Then looping through every quadrature point on each element we can for every basis function with compact support, evaluate the integral using Gaussian quadrature and storing the result in its right place in the K-matrix and F-vector.\n",
    "\n",
    "    {Obtain zp} \n",
    "    {Obtain zq} \n",
    "    for element in x dir\n",
    "        {map zp to \\xi-coordinates}\n",
    "        for element in y dir\n",
    "            {map zp to \\eta-coordinates}\n",
    "            for Gauss_x in zp\n",
    "                for Gauss_y in zq\n",
    "                    {Obtain Ñ and dÑ with compact support for this point}\n",
    "                    {Evaluate det(J) at current quadrature point}\n",
    "                for B in Ñ\n",
    "                    {update F_B}\n",
    "                    for A in Ñ\n",
    "                        {update K_AB}\n",
    "\n"
   ]
  },
  {
   "cell_type": "code",
   "execution_count": 11,
   "metadata": {
    "collapsed": true
   },
   "outputs": [],
   "source": [
    "def integrate(func,knot_x,knot_y, p,q,n,m,rhs_expr=0,obj=None):\n",
    "    # obj - our space with knotvectors, func - function that gives the integrand of the integration\n",
    "    # map - 1 if we map from some space to parameter space, 0 if not\n",
    "    #Number of quadrature points needed in each direction, Gaussian guadrature integrates exact polynomials of degree 2N-1 \n",
    "    # when N is the number of gaussian points. Degree of integrand is 4p-1, see notes\n",
    "    Np=2*p\n",
    "    Nq=2*q\n",
    "    # Np=int(np.ceil((p+1)/2+0.001))# + 0.001 since integrates functions up to exact , meaning p<2Np-1\n",
    "    # Nq=int(np.ceil((q+1)/2+0.001))\n",
    "    # Create element vector with corresponding index vector giving index from the knotvector\n",
    "    element_x, unq_cnt = np.unique(knot_x, return_counts=True)\n",
    "    el_index_x=np.cumsum(unq_cnt) # element number i in knot_x for every unique element, for element with multiplicity this is the last element\n",
    "    element_y, unq_cnt = np.unique(knot_y, return_counts=True)\n",
    "    el_index_y=np.cumsum(unq_cnt) # element number i in knot_y for every unique element, for element with multiplicity this is the last element\n",
    "    #Quadrature points and weights for the element [-1,1]x[-1,1]\n",
    "    # x-direction\n",
    "    [z_x,rho_xdir]=np.polynomial.legendre.leggauss(Np)\n",
    "    # y-direction\n",
    "    [z_y,rho_ydir]=np.polynomial.legendre.leggauss(Nq)\n",
    "    # rhs\n",
    "    f=lambdify((x,y),rhs_expr,\"numpy\")\n",
    "    # Allocate matrix and vector\n",
    "    K=np.zeros((m*n,m*n))\n",
    "    F=np.zeros(m*n)\n",
    "    for el_x in range(0, len(element_x)-1):\n",
    "        # For current interval in x-direction the following base functions\n",
    "        # will have compact support for all elements in y-direction\n",
    "         # In x - direction the basis functions with compact support is\n",
    "        i=el_index_x[el_x] # i is the knotindex for the current x-element (NOT 0-indexed)\n",
    "        N_x_number=np.arange(i-p,i+1) #+1 since np.arange(1,4) would only give [1,2,3] ## Basis functions (number) with compact support\n",
    "        # Set start and end point of element i x-dir\n",
    "        a=element_x[el_x]\n",
    "        b=element_x[el_x+1]\n",
    "        # Map weights and points to the parameter element [\\xi_i,\\xi_{i+1}]\n",
    "        xi=z_x*(b-a)/2+(a+b)/2\n",
    "        rho_x=rho_xdir*(b-a)/2\n",
    "        for el_y in range(0,len(element_y)-1):\n",
    "            # For the current element the basis functions (and its derivatives) with compact support is\n",
    "            j=el_index_y[el_y]\n",
    "            N_y_number=np.arange(j-q,j+1)\n",
    "            # Set start and end point of element i y-dir\n",
    "            c=element_y[el_y]\n",
    "            d=element_y[el_y+1]\n",
    "            # Map weights and points to the parameter element [\\eta_j,\\eta_{j+1}]\n",
    "            eta=z_y*(d-c)/2+(c+d)/2\n",
    "            rho_y=rho_ydir*(d-c)/2\n",
    "            for r in range(0,len(xi)):\n",
    "                for s in range(0,len(eta)):\n",
    "                    #Evaluate all basis functions and its derivatives with compact support in this point\n",
    "                    [N, dN, I] = computeBasis(xi[r], eta[s],knot_x, knot_y,N_x_number,N_y_number,p,q,n,m)\n",
    "                    if obj!=None:\n",
    "                        J=np.absolute(Jacobian(dN,obj,N_x_number, N_y_number))\n",
    "                    else:\n",
    "                        print(\"object=None, then no mapping is done, J=1\")\n",
    "                        J=1\n",
    "                    for i in range(0,len(N)):\n",
    "                        F[I[i]-1]+=rho_x[r]*rho_y[s]*J*f(xi[r],eta[s])\n",
    "                        for j in range(0,len(N)):\n",
    "                            K[I[i]-1,I[j]-1]+=rho_x[r]*rho_y[s]*J*func(N,dN,i,j) #I is not zero indexed because the basis functions start at 1, i.e. N_1..\n",
    "    return K,F"
   ]
  },
  {
   "cell_type": "markdown",
   "metadata": {},
   "source": [
    "This is about how far I came before I started to work with Kjetil and Eivind using nutils. Up to this point everything should work almost properly though not optimal.\n",
    "\n",
    "From here we must locate the indicies connected to the control points belonging to the boundary, so that we can reduce our $K$-matrix to a nonsingular matrix. Also we must pick a proper test case with the right boundary conditions and performing some error analysis.  After that it would be great fun making an implementation with nonhomogeneous boundary conditions, but this is of course not that much work once the other things are in place.\n",
    "\n",
    "I have tried to do the reduction of the matrix to a nonsingular matrix, solve the system and perform some kind of error analysis. But this is not working properly yet."
   ]
  },
  {
   "cell_type": "code",
   "execution_count": 12,
   "metadata": {},
   "outputs": [
    {
     "ename": "SyntaxError",
     "evalue": "invalid syntax (<ipython-input-12-11c3234a8c26>, line 1)",
     "output_type": "error",
     "traceback": [
      "\u001b[1;36m  File \u001b[1;32m\"<ipython-input-12-11c3234a8c26>\"\u001b[1;36m, line \u001b[1;32m1\u001b[0m\n\u001b[1;33m    THINGS TO CONSIDER:\u001b[0m\n\u001b[1;37m            ^\u001b[0m\n\u001b[1;31mSyntaxError\u001b[0m\u001b[1;31m:\u001b[0m invalid syntax\n"
     ]
    }
   ],
   "source": [
    " THINGS TO CONSIDER: \n",
    "# ¤ what to do with order of basis regards to your f? This may need higher order than the physical space, then not the same basis\n",
    "# ¤ Fix problem with 0 boundary conditions: must choose a reference solution that is 0 on boundary also? Which one? \n",
    "# ¤ Is the cut away done right?\n",
    "def FEMpoisson(obj, func,rhs_expr=0):\n",
    "    knot_x=obj.knots('u',with_multiplicities=True)\n",
    "    knot_y=obj.knots('v',with_multiplicities=True)\n",
    "    mapping=1 # True that we map from physical space to parameter space hence Jacobian must be included\n",
    "    # Order of basis function in x- and y-direction\n",
    "    p=obj.order('u')-1\n",
    "    q=obj.order('v')-1\n",
    "    # Number of basis function in x- and y-direction and dim of control points\n",
    "    n,m,dim=obj.controlpoints.shape\n",
    "    K,F=integrate(func,knot_x,knot_y, p,q,n,m,rhs_expr,obj)\n",
    "    # Do something to get rid of singularity\n",
    "    # Identify indices connected to singularity\n",
    "    I=np.zeros(2*(n-1)+2*(m-1))\n",
    "    ind=0\n",
    "    for i in range(0,n):\n",
    "        for j in range(0,m):\n",
    "            if i == 0 or i == n-1 or j==0 or j==m-1:\n",
    "                I[ind]=j+i*m\n",
    "                ind+=1\n",
    "    # All indices\n",
    "    J=np.arange(0,n*m)\n",
    "    # All indices not connected to boundary\n",
    "    I=np.setdiff1d(J,I)\n",
    "    # Keep only elements belonging to these indices \n",
    "    K_new=np.zeros((len(I),len(I)))\n",
    "    K_new=K[np.ix_(I,I)]\n",
    "    F_new=np.zeros(len(I))\n",
    "    F_new=F[np.ix_(I)]\n",
    "    #solve problem\n",
    "    uc = np.linalg.solve(K_new, F_new)\n",
    "    uc_new=np.zeros(n*m)\n",
    "    uc_new[I]=uc\n",
    "    return uc_new,K_new,F_new,I"
   ]
  },
  {
   "cell_type": "code",
   "execution_count": 13,
   "metadata": {
    "collapsed": true
   },
   "outputs": [],
   "source": [
    "# NEEDS CHECKING\n",
    "def FEMpoisson_error(uc,ug,Index,obj=None):\n",
    "    # uc - control points of approximate solution\n",
    "    # ug - reference solution\n",
    "    # Index - gives global index for uc NOT affected by boundary conditions\n",
    "    # obj - physical space\n",
    "    knot_x=obj.knots('u',with_multiplicities=True)\n",
    "    knot_y=obj.knots('v',with_multiplicities=True)\n",
    "    # Order of basis function in x- and y-direction\n",
    "    p=obj.order('u')-1\n",
    "    q=obj.order('v')-1\n",
    "    # Number of basis function in x- and y-direction and dim of control points\n",
    "    n,m,dim=obj.controlpoints.shape\n",
    "    Np=2*p\n",
    "    Nq=2*q\n",
    "    # Np=int(np.ceil((p+1)/2+0.001))# + 0.001 since integrates functions up to exact , meaning p<2Np-1\n",
    "    # Nq=int(np.ceil((q+1)/2+0.001))\n",
    "    # Create element vector with corresponding index vector giving index from the knotvector\n",
    "    element_x, unq_cnt = np.unique(knot_x, return_counts=True)\n",
    "    el_index_x=np.cumsum(unq_cnt) # element number i in knot_x for every unique element, for element with multiplicity this is the last element\n",
    "    element_y, unq_cnt = np.unique(knot_y, return_counts=True)\n",
    "    el_index_y=np.cumsum(unq_cnt) # element number i in knot_y for every unique element, for element with multiplicity this is the last element\n",
    "    #Quadrature points and weights for the element [-1,1]x[-1,1]\n",
    "    # x-direction\n",
    "    [z_x,rho_xdir]=np.polynomial.legendre.leggauss(Np)\n",
    "    # y-direction\n",
    "    [z_y,rho_ydir]=np.polynomial.legendre.leggauss(Nq)\n",
    "    # rhs\n",
    "    u_exact=lambdify((x,y),ug,\"numpy\")\n",
    "    # Allocate matrix and vector\n",
    "    S=0\n",
    "    for el_x in range(0, len(element_x)-1):\n",
    "        # For current interval in x-direction the following base functions\n",
    "        # will have compact support for all elements in y-direction\n",
    "         # In x - direction the basis functions with compact support is\n",
    "        i=el_index_x[el_x] # i is the knotindex for the current x-element (NOT 0-indexed)\n",
    "        N_x_number=np.arange(i-p,i+1) #+1 since np.arange(1,4) would only give [1,2,3] ## Basis functions (number) with compact support\n",
    "        # Set start and end point of element i x-dir\n",
    "        a=element_x[el_x]\n",
    "        b=element_x[el_x+1]\n",
    "        # Map weights and points to the parameter element [\\xi_i,\\xi_{i+1}]\n",
    "        xi=z_x*(b-a)/2+(a+b)/2\n",
    "        rho_x=rho_xdir*(b-a)/2\n",
    "        for el_y in range(0,len(element_y)-1):\n",
    "            # For the current element the basis functions (and its derivatives) with compact support is\n",
    "            j=el_index_y[el_y]\n",
    "            N_y_number=np.arange(j-q,j+1)\n",
    "            # Set start and end point of element i y-dir\n",
    "            c=element_y[el_y]\n",
    "            d=element_y[el_y+1]\n",
    "            # Map weights and points to the parameter element [\\eta_j,\\eta_{j+1}]\n",
    "            eta=z_y*(d-c)/2+(c+d)/2\n",
    "            rho_y=rho_ydir*(d-c)/2\n",
    "            for r in range(0,len(xi)):\n",
    "                for s in range(0,len(eta)):\n",
    "                    #Evaluate all basis functions and its derivatives with compact support in this point\n",
    "                    [N, dN, I] = computeBasis(xi[r], eta[s],knot_x, knot_y,N_x_number,N_y_number,p,q,n,m)\n",
    "                    if obj!=None:\n",
    "                        J=np.absolute(Jacobian(dN,obj,N_x_number, N_y_number))\n",
    "                    else:\n",
    "                        print(\"object=None, then no mapping is done, J=1\")\n",
    "                        J=1\n",
    "                    U=np.inner(N,uc[I-1])\n",
    "                    S+=rho_x[r]*rho_y[s]*J*(U-u_exact(xi[r],eta[s]))**2\n",
    "    return S\n"
   ]
  }
 ],
 "metadata": {
  "kernelspec": {
   "display_name": "Python 3",
   "language": "python",
   "name": "python3"
  },
  "language_info": {
   "codemirror_mode": {
    "name": "ipython",
    "version": 3
   },
   "file_extension": ".py",
   "mimetype": "text/x-python",
   "name": "python",
   "nbconvert_exporter": "python",
   "pygments_lexer": "ipython3",
   "version": "3.6.1"
  }
 },
 "nbformat": 4,
 "nbformat_minor": 2
}
